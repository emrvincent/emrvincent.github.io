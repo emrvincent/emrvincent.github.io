{
 "cells": [
  {
   "cell_type": "code",
   "execution_count": 13,
   "id": "fffec41f",
   "metadata": {},
   "outputs": [],
   "source": [
    "from tkinter import *\n",
    "from tkinter.ttk import Combobox"
   ]
  },
  {
   "cell_type": "code",
   "execution_count": 16,
   "id": "6ce44419",
   "metadata": {},
   "outputs": [
    {
     "ename": "KeyboardInterrupt",
     "evalue": "",
     "output_type": "error",
     "traceback": [
      "\u001b[1;31m---------------------------------------------------------------------------\u001b[0m",
      "\u001b[1;31mKeyboardInterrupt\u001b[0m                         Traceback (most recent call last)",
      "Cell \u001b[1;32mIn [16], line 39\u001b[0m\n\u001b[0;32m     37\u001b[0m window\u001b[38;5;241m.\u001b[39mtitle(\u001b[38;5;124m'\u001b[39m\u001b[38;5;124mHello Python\u001b[39m\u001b[38;5;124m'\u001b[39m)\n\u001b[0;32m     38\u001b[0m window\u001b[38;5;241m.\u001b[39mgeometry(\u001b[38;5;124m\"\u001b[39m\u001b[38;5;124m400x300+10+10\u001b[39m\u001b[38;5;124m\"\u001b[39m)\n\u001b[1;32m---> 39\u001b[0m \u001b[43mwindow\u001b[49m\u001b[38;5;241;43m.\u001b[39;49m\u001b[43mmainloop\u001b[49m\u001b[43m(\u001b[49m\u001b[43m)\u001b[49m\n",
      "File \u001b[1;32m~\\miniconda3\\envs\\computing\\lib\\tkinter\\__init__.py:1458\u001b[0m, in \u001b[0;36mMisc.mainloop\u001b[1;34m(self, n)\u001b[0m\n\u001b[0;32m   1456\u001b[0m \u001b[38;5;28;01mdef\u001b[39;00m \u001b[38;5;21mmainloop\u001b[39m(\u001b[38;5;28mself\u001b[39m, n\u001b[38;5;241m=\u001b[39m\u001b[38;5;241m0\u001b[39m):\n\u001b[0;32m   1457\u001b[0m     \u001b[38;5;124;03m\"\"\"Call the mainloop of Tk.\"\"\"\u001b[39;00m\n\u001b[1;32m-> 1458\u001b[0m     \u001b[38;5;28;43mself\u001b[39;49m\u001b[38;5;241;43m.\u001b[39;49m\u001b[43mtk\u001b[49m\u001b[38;5;241;43m.\u001b[39;49m\u001b[43mmainloop\u001b[49m\u001b[43m(\u001b[49m\u001b[43mn\u001b[49m\u001b[43m)\u001b[49m\n",
      "\u001b[1;31mKeyboardInterrupt\u001b[0m: "
     ]
    }
   ],
   "source": [
    "# class MyWindow:\n",
    "#     def __init__(self, win):\n",
    "#         self.lbl1=Label(win, text='First number')\n",
    "#         self.lbl2=Label(win, text='Second number')\n",
    "#         self.lbl3=Label(win, text='Result')\n",
    "#         self.t1=Entry(bd=3)\n",
    "#         self.t2=Entry()\n",
    "#         self.t3=Entry()\n",
    "#         self.btn1 = Button(win, text='Add')\n",
    "#         self.btn2=Button(win, text='Subtract')\n",
    "#         self.lbl1.place(x=100, y=50)\n",
    "#         self.t1.place(x=200, y=50)\n",
    "#         self.lbl2.place(x=100, y=100)\n",
    "#         self.t2.place(x=200, y=100)\n",
    "#         self.b1=Button(win, text='Add', command=self.add)\n",
    "#         self.b2=Button(win, text='Subtract')\n",
    "#         self.b2.bind('<Button-1>', self.sub)\n",
    "#         self.b1.place(x=100, y=150)\n",
    "#         self.b2.place(x=200, y=150)\n",
    "#         self.lbl3.place(x=100, y=200)\n",
    "#         self.t3.place(x=200, y=200)\n",
    "#     def add(self):\n",
    "#         self.t3.delete(0, 'end')\n",
    "#         num1=int(self.t1.get())\n",
    "#         num2=int(self.t2.get())\n",
    "#         result=num1+num2\n",
    "#         self.t3.insert(END, str(result))\n",
    "#     def sub(self, event):\n",
    "#         self.t3.delete(0, 'end')\n",
    "#         num1=int(self.t1.get())\n",
    "#         num2=int(self.t2.get())\n",
    "#         result=num1-num2\n",
    "#         self.t3.insert(END, str(result))\n",
    "\n",
    "# window=Tk()\n",
    "# mywin=MyWindow(window)\n",
    "# window.title('Hello Python')\n",
    "# window.geometry(\"400x300+10+10\")\n",
    "# window.mainloop()"
   ]
  },
  {
   "cell_type": "code",
   "execution_count": null,
   "id": "b88e1acd",
   "metadata": {},
   "outputs": [],
   "source": []
  }
 ],
 "metadata": {
  "kernelspec": {
   "display_name": "Python 3 (ipykernel)",
   "language": "python",
   "name": "python3"
  },
  "language_info": {
   "codemirror_mode": {
    "name": "ipython",
    "version": 3
   },
   "file_extension": ".py",
   "mimetype": "text/x-python",
   "name": "python",
   "nbconvert_exporter": "python",
   "pygments_lexer": "ipython3",
   "version": "3.10.8"
  }
 },
 "nbformat": 4,
 "nbformat_minor": 5
}
