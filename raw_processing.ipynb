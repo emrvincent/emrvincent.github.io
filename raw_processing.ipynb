{
 "cells": [
  {
   "cell_type": "code",
   "execution_count": 1,
   "id": "b621b556",
   "metadata": {},
   "outputs": [],
   "source": [
    "import pandas as pd\n",
    "import numpy as np\n",
    "import csv"
   ]
  },
  {
   "cell_type": "code",
   "execution_count": 93,
   "id": "7fa2dcd8",
   "metadata": {},
   "outputs": [],
   "source": [
    "def sorter(genders, pdcol):\n",
    "    n_g = len(genders)\n",
    "    n_p = len(pdcol)\n",
    "    g = np.zeros((n_p,n_g))\n",
    "    for i in range(n_p):\n",
    "        for j in range(n_g):\n",
    "            this_entry = pdcol[i].split(', ')\n",
    "            if genders[j].lower() in [k.lower() for k in this_entry]:\n",
    "                g[i,j] += 1\n",
    "    df = pd.DataFrame(data=g,columns=[i.lower() for i in genders])\n",
    "    df = df.reindex(sorted(df.columns), axis=1)\n",
    "    return df\n",
    "\n",
    "def titler(titles, pdcol):\n",
    "    n_t = len(titles)\n",
    "    n_p = len(pdcol)\n",
    "    t = np.zeros((n_p,n_t))\n",
    "    for i in range(n_p):\n",
    "        for j in range(n_t):\n",
    "            if titles[j].lower() == pdcol[i].lower():\n",
    "                t[i,j] += 1\n",
    "    df = pd.DataFrame(data=t,columns=[i.lower() for i in titles])\n",
    "    df = df.reindex(sorted(df.columns), axis=1)\n",
    "    return df"
   ]
  },
  {
   "cell_type": "markdown",
   "id": "8870732a",
   "metadata": {},
   "source": [
    "# Identities"
   ]
  },
  {
   "cell_type": "code",
   "execution_count": 391,
   "id": "fd3db9af",
   "metadata": {},
   "outputs": [],
   "source": [
    "# 2015\n",
    "genders_15 = [\"Nonbinary\", \"Genderqueer\", \"Agender\", \"Fluid gender/genderfluid\", \"Trans\", \"Transgender\", \"Questioning or unknown\", \"Woman\", \"Neutral\", \"Androgyne\", \"Trans*\", \"Man\", \"Neutrois\", \"Bigender\", \"Third gender\", \"Intergender\", \"Cisgender\"]\n",
    "genders_15 = [i.lower() for i in genders_15]\n",
    "raw_15 = pd.read_csv(\"Data/RawData_15.csv\").fillna(\"elliot_nan\")\n",
    "\n",
    "g_15 = sorter(genders_15, raw_15.iloc[:,1])"
   ]
  },
  {
   "cell_type": "code",
   "execution_count": 392,
   "id": "073eebc0",
   "metadata": {},
   "outputs": [],
   "source": [
    "# 2016\n",
    "genders_16 = genders_15 + [\"Enby\", \"Demigender\", \"Transmasculine\", \"Woman (or girl if younger)\", \"None/do not describe\", \"Man (or boy if younger)\", \"Transfeminine\"]\n",
    "genders_16.remove(\"man\")\n",
    "genders_16.remove(\"woman\")\n",
    "genders_16 = [i.lower() for i in genders_16]\n",
    "raw_16 = pd.read_csv(\"Data/RawData_16_Identity.csv\",header=[0,1,2]).fillna(\"elliot_nan\")\n",
    "\n",
    "g_16 = sorter(genders_16, raw_16.iloc[:,2])"
   ]
  },
  {
   "cell_type": "code",
   "execution_count": 71,
   "id": "37dbec5e",
   "metadata": {},
   "outputs": [],
   "source": [
    "# 2017\n",
    "#genders_17 = genders_16\n",
    "g_17 = pd.read_csv(\"Data/RawData_17.csv\",usecols=range(5,5+22)).fillna(\"elliot_nan\").replace(\"Yes\",1).replace(\"No\",0)\n",
    "g_17.columns = [i[i.rfind(\". \") + 2:] for i in g_17.columns]"
   ]
  },
  {
   "cell_type": "code",
   "execution_count": 72,
   "id": "18af3034",
   "metadata": {},
   "outputs": [],
   "source": [
    "# 2018\n",
    "#genders_18 = genders_17 + [\"Genderflux\", \"Binary\"]\n",
    "g_18 = pd.read_csv(\"Data/RawData_18.csv\",skiprows=[0,2],usecols=range(4,27)).fillna(\"elliot_nan\").replace(\"Yes\",1).replace(\"No\",0)\n",
    "g_18.columns = [i[i.rfind(\". \") + 2:] for i in g_18.columns]"
   ]
  },
  {
   "cell_type": "code",
   "execution_count": 160,
   "id": "61d90a70",
   "metadata": {},
   "outputs": [],
   "source": [
    "# 2019\n",
    "#genders_19 = genders_18 + [\"Queer\", \"Genderless\", \"Demiboy\", \"Demigirl\", \"Gender non-conforming\"]\n",
    "#genders_19.remove(\"Demigender\")\n",
    "g_19 = pd.read_csv(\"Data/RawData_19_Identity.csv\",skiprows=[0,2,3],usecols=range(2,30)).fillna(\"elliot_nan\").replace(\"Yes\",1).replace(\"No\",0)"
   ]
  },
  {
   "cell_type": "code",
   "execution_count": 74,
   "id": "94a1843a",
   "metadata": {},
   "outputs": [],
   "source": [
    "# 2020\n",
    "#genders_20 = genders_19\n",
    "g_20 = pd.read_csv(\"Data/RawData_20.csv\",skiprows = [0],usecols=range(2,32)).fillna(\"elliot_nan\").replace(\"Yes\",1).replace(\"No\",0)"
   ]
  },
  {
   "cell_type": "code",
   "execution_count": 75,
   "id": "6dba425f",
   "metadata": {},
   "outputs": [],
   "source": [
    "# 2021\n",
    "#genders_21 = genders_20 + [\"femme\", \"butch\", \"lesbian\"]\n",
    "g_21 = pd.read_csv(\"Data/RawData_21.csv\",skiprows = [0],usecols=range(2,35)).fillna(\"elliot_nan\").replace(\"Yes\",1).replace(\"No\",0)\n",
    "g_21.columns = [i[i.rfind(\". \") + 2:] for i in g_21.columns]"
   ]
  },
  {
   "cell_type": "code",
   "execution_count": 76,
   "id": "fc6b069b",
   "metadata": {},
   "outputs": [],
   "source": [
    "# 2022\n",
    "g_22 = pd.read_csv(\"Data/RawData_22.csv\",skiprows = [0,2,3],usecols=range(2,35)).fillna(\"elliot_nan\").replace(\"Yes\",1).replace(\"No\",0)"
   ]
  },
  {
   "cell_type": "code",
   "execution_count": 77,
   "id": "dc520f48",
   "metadata": {},
   "outputs": [],
   "source": [
    "# 2023\n",
    "g_23 = pd.read_csv(\"Data/RawData_23.csv\",skiprows = [0,2],usecols=range(2,22)).fillna(\"elliot_nan\").replace(\"Yes\",1).replace(\"No\",0)\n",
    "g_23.columns = [i[i.rfind(\". \") + 2:] for i in g_23.columns]"
   ]
  },
  {
   "cell_type": "code",
   "execution_count": 78,
   "id": "8eed8c74",
   "metadata": {},
   "outputs": [],
   "source": [
    "all_genders = []\n",
    "all_df = [g_15, g_16, g_17, g_18, g_19, g_20, g_21, g_22, g_23]\n",
    "for j in all_df:\n",
    "    all_genders += list(j.columns)\n",
    "all_genders = sorted(set(all_genders))"
   ]
  },
  {
   "cell_type": "code",
   "execution_count": 79,
   "id": "ca6b17d3",
   "metadata": {},
   "outputs": [
    {
     "name": "stdout",
     "output_type": "stream",
     "text": [
      "[15, 'fluid gender/genderfluid']\n",
      "[16, 'gay (in relation to gender)']\n",
      "[17, 'gay (partially or completely in relation to gender)']\n",
      "[22, 'genderqueer']\n",
      "[26, 'lesbian (in relation to gender)']\n",
      "[27, 'lesbian (partially or completely in relation to gender)']\n",
      "[33, 'none / I do not describe myself']\n",
      "[34, 'none / I do not describe myself / \"I\\'m just me\"']\n",
      "[35, 'none/I do not describe']\n",
      "[36, 'none/I do not describe myself']\n",
      "[37, 'none/do not describe']\n",
      "[38, 'queer']\n",
      "[39, 'queer (in relation to gender)']\n",
      "[40, 'queer (partially or completely in relation to gender)']\n",
      "\n",
      "42\n"
     ]
    }
   ],
   "source": [
    "for i in range(len(all_genders)):\n",
    "    if \"gay\" in all_genders[i] or \"queer\" in all_genders[i] or \"lesbian\" in all_genders[i] or \"do not describe\" in all_genders[i] or 'fluid gender/genderfluid' in all_genders[i]:\n",
    "        print([i,all_genders[i]])\n",
    "remove_idx = [16,17,26,27,39,40,35,36,37,15]\n",
    "genders_condensed = [all_genders[i] for i in range(len(all_genders)) if i not in remove_idx]\n",
    "genders_condensed += [\"lesbian\", \"gay\"]\n",
    "genders_condensed = sorted(genders_condensed)\n",
    "print(\"\")\n",
    "print(len(genders_condensed))"
   ]
  },
  {
   "cell_type": "code",
   "execution_count": 80,
   "id": "aefc7032",
   "metadata": {},
   "outputs": [
    {
     "name": "stdout",
     "output_type": "stream",
     "text": [
      "['fluid gender/genderfluid', 'yr 2015', 'col 4']\n",
      "['fluid gender/genderfluid', 'yr 2016', 'col 6']\n",
      "['none/do not describe', 'yr 2016', 'col 13']\n",
      "['fluid gender/genderfluid', 'yr 2017', 'col 6']\n",
      "['none/I do not describe', 'yr 2017', 'col 21']\n",
      "['none/I do not describe myself', 'yr 2018', 'col 22']\n",
      "['none/I do not describe myself', 'yr 2019', 'col 27']\n",
      "['queer (partially or completely in relation to gender)', 'yr 2020', 'col 20']\n",
      "['none/I do not describe myself', 'yr 2020', 'col 29']\n",
      "['gay (partially or completely in relation to gender)', 'yr 2021', 'col 12']\n",
      "['lesbian (partially or completely in relation to gender)', 'yr 2021', 'col 19']\n",
      "['queer (partially or completely in relation to gender)', 'yr 2021', 'col 24']\n",
      "['none/I do not describe myself', 'yr 2021', 'col 32']\n",
      "['gay (in relation to gender)', 'yr 2022', 'col 12']\n",
      "['lesbian (in relation to gender)', 'yr 2022', 'col 20']\n",
      "['queer (in relation to gender)', 'yr 2022', 'col 24']\n",
      "['queer (in relation to gender)', 'yr 2023', 'col 11']\n"
     ]
    }
   ],
   "source": [
    "# Run this cell twice!\n",
    "for i in range(len(all_df)):\n",
    "    for j in range(len(all_df[i].columns)):\n",
    "        if all_df[i].columns[j] in [all_genders[k] for k in remove_idx]:\n",
    "            print([str(all_df[i].columns[j]), \"yr \" + str(i + 2015), \"col \" + str(j)])\n",
    "            \n",
    "g_16 = g_16.rename(columns={g_16.columns[13]: 'none / I do not describe myself'})\n",
    "g_17 = g_17.rename(columns={g_17.columns[21]: 'none / I do not describe myself'})\n",
    "g_18 = g_18.rename(columns={g_18.columns[22]: 'none / I do not describe myself'})\n",
    "g_19 = g_19.rename(columns={g_19.columns[27]: 'none / I do not describe myself'})\n",
    "g_20 = g_20.rename(columns={g_20.columns[29]: 'none / I do not describe myself'})\n",
    "g_21 = g_21.rename(columns={g_21.columns[32]: 'none / I do not describe myself'})\n",
    "\n",
    "g_20 = g_20.rename(columns={g_20.columns[20]: 'queer'})\n",
    "g_21 = g_21.rename(columns={g_21.columns[24]: 'queer'})\n",
    "g_22 = g_22.rename(columns={g_22.columns[24]: 'queer'})\n",
    "g_23 = g_23.rename(columns={g_23.columns[11]: 'queer'})\n",
    "\n",
    "g_21 = g_21.rename(columns={g_21.columns[12]: 'gay'})\n",
    "g_22 = g_22.rename(columns={g_22.columns[12]: 'gay'})\n",
    "\n",
    "g_21 = g_21.rename(columns={g_21.columns[19]: 'lesbian'})\n",
    "g_22 = g_22.rename(columns={g_22.columns[20]: 'lesbian'})\n",
    "\n",
    "g_15 = g_15.rename(columns={g_15.columns[4]: 'genderfluid/fluid gender'})\n",
    "g_16 = g_16.rename(columns={g_16.columns[6]: 'genderfluid/fluid gender'})\n",
    "g_17 = g_17.rename(columns={g_17.columns[6]: 'genderfluid/fluid gender'})\n",
    "\n",
    "all_df = [g_15, g_16, g_17, g_18, g_19, g_20, g_21, g_22, g_23]"
   ]
  },
  {
   "cell_type": "code",
   "execution_count": 81,
   "id": "152b5729",
   "metadata": {},
   "outputs": [],
   "source": [
    "g_15.to_csv(\"Data/GC15.csv\",index = False)\n",
    "g_16.to_csv(\"Data/GC16.csv\",index = False)\n",
    "g_17.to_csv(\"Data/GC17.csv\",index = False)\n",
    "g_18.to_csv(\"Data/GC18.csv\",index = False)\n",
    "g_19.to_csv(\"Data/GC19.csv\",index = False)\n",
    "g_20.to_csv(\"Data/GC20.csv\",index = False)\n",
    "g_21.to_csv(\"Data/GC21.csv\",index = False)\n",
    "g_22.to_csv(\"Data/GC22.csv\",index = False)\n",
    "g_23.to_csv(\"Data/GC23.csv\",index = False)"
   ]
  },
  {
   "cell_type": "markdown",
   "id": "9bf722a3",
   "metadata": {},
   "source": [
    "# Titles (need to make sure i have caught all the major default responses i.e. something like 80% of people have a response)\n"
   ]
  },
  {
   "cell_type": "code",
   "execution_count": 358,
   "id": "dc8b55af",
   "metadata": {},
   "outputs": [],
   "source": [
    "# 2015\n",
    "titles_15 = [\"No title at all\", \"Mx\", \"Mr\", \"Miss\", \"Ms\", \"Misc\",\"Mrs\"]\n",
    "t_15 = titler(titles_15, raw_15.iloc[:,2])"
   ]
  },
  {
   "cell_type": "code",
   "execution_count": 359,
   "id": "1716f7a6",
   "metadata": {},
   "outputs": [],
   "source": [
    "# 2016\n",
    "titles_16 = titles_15 + [\"Pr\",'A non-gendered professional or academic title (Eg: Dr, Rev)', 'A gendered professional or academic title (Eg: Sister, Father)', 'A standard title that indicates my nonbinary/genderqueer identity (if you know of one, leave it in the Feedback box)', \"Ind\", \"Unknown or blank\", 'Even for long-term things like ID or bank cards, I choose whichever feels right on the day from the options available']\n",
    "raw_16 = pd.read_csv(\"Data/RawData_16_Title.csv\",header = [0,1,2]).fillna(\"elliot_nan\")\n",
    "t_16 = titler(titles_16, raw_16.iloc[:,1])"
   ]
  },
  {
   "cell_type": "code",
   "execution_count": 360,
   "id": "28f005aa",
   "metadata": {},
   "outputs": [],
   "source": [
    "# 2017\n",
    "titles_17 = titles_16\n",
    "titles_17.remove(\"Misc\")\n",
    "titles_17.remove(\"Mrs\")\n",
    "titles_17.remove(\"Pr\")\n",
    "titles_17.remove(\"Unknown or blank\")\n",
    "raw_17 = pd.read_csv(\"Data/RawData_17.csv\",usecols=[28]).fillna(\"elliot_nan\").replace('A standard title that indicates my nonbinary/genderqueer identity (if you know of one, leave it in the comment box under this question)', \"A standard title that indicates my nonbinary/genderqueer identity (if you know of one, leave it in the Feedback box)\")\n",
    "t_17 = titler(titles_17, raw_17.iloc[:,0])"
   ]
  },
  {
   "cell_type": "code",
   "execution_count": 361,
   "id": "38ee3327",
   "metadata": {},
   "outputs": [],
   "source": [
    "# 2018\n",
    "titles_18 = titles_17 + ['A standard title that is used only by people other than men and women (if you choose this and you know of such a title, put it in the comments box)']\n",
    "titles_18.remove('A standard title that indicates my nonbinary/genderqueer identity (if you know of one, leave it in the Feedback box)')\n",
    "raw_18 = pd.read_csv(\"Data/RawData_18.csv\",usecols=[32],skiprows=[1,2]).fillna(\"elliot_nan\")\n",
    "t_18 = titler(titles_18, raw_18.iloc[:,0])"
   ]
  },
  {
   "cell_type": "code",
   "execution_count": 362,
   "id": "f55d4383",
   "metadata": {},
   "outputs": [],
   "source": [
    "# 2019\n",
    "titles_19 = [\"Non-gendered professional or academic title (Eg: Dr, Rev)\", \"Ind (\\\"individual\\\")\", \"Miss\", \"Mr\", \"Ms\", \"Mx\" , \"Unknown\", \"A standard title that is used only by people other than men and women\", \"I choose my title on the day depending on how I'm feeling, even for long-term things like bank accounts\",\"No title at all\",\"Other (please specify)\"]\n",
    "raw_19 = pd.read_csv(\"Data/RawData_19_Title.csv\",skiprows=[2,1],usecols=[0,1,2]).fillna(\"elliot_nan\")\n",
    "t_19 = titler(titles_19,raw_19.iloc[:,2])"
   ]
  },
  {
   "cell_type": "code",
   "execution_count": 363,
   "id": "bc3b4c32",
   "metadata": {},
   "outputs": [],
   "source": [
    "# 2020\n",
    "titles_20 = titles_19\n",
    "raw_20 = pd.read_csv(\"Data/RawData_20.csv\",usecols=[37],skiprows=[0]).fillna(\"elliot_nan\")\n",
    "t_20 = titler(titles_20,raw_20.iloc[:,0])"
   ]
  },
  {
   "cell_type": "code",
   "execution_count": 364,
   "id": "76b86418",
   "metadata": {},
   "outputs": [],
   "source": [
    "# 2021\n",
    "titles_21 = titles_20\n",
    "raw_21 = pd.read_csv(\"Data/RawData_21.csv\",usecols = [40],skiprows=[1]).fillna(\"elliot_nan\")\n",
    "t_21 = titler(titles_21,raw_21.iloc[:,0])"
   ]
  },
  {
   "cell_type": "code",
   "execution_count": 365,
   "id": "217a2375",
   "metadata": {},
   "outputs": [],
   "source": [
    "# 2022\n",
    "titles_22 = titles_21\n",
    "raw_22 = pd.read_csv(\"Data/RawData_22.csv\",usecols = [42],skiprows=[2,1,3]).fillna(\"elliot_nan\")\n",
    "t_22 = titler(titles_22,raw_22.iloc[:,0])"
   ]
  },
  {
   "cell_type": "code",
   "execution_count": 366,
   "id": "c1f3d5fa",
   "metadata": {},
   "outputs": [],
   "source": [
    "# 2023\n",
    "raw_23 = pd.read_csv(\"Data/RawData_23.csv\",usecols = [42],skiprows=[1,2]).fillna(\"elliot_nan\")\n",
    "titles_23 = list(set(raw_23.iloc[:,0]))\n",
    "t_23 = titler(titles_23,raw_23.iloc[:,0])"
   ]
  },
  {
   "cell_type": "code",
   "execution_count": 384,
   "id": "814bdecc",
   "metadata": {},
   "outputs": [],
   "source": [
    "# Run this one twice\n",
    "all_titles = []\n",
    "all_df_t = [t_15, t_16, t_17, t_18, t_19, t_20, t_21, t_22, t_23]\n",
    "for j in all_df_t:\n",
    "    all_titles += list(j.columns)\n",
    "all_titles = sorted(set(all_titles))\n",
    "title_dict = {'a gendered professional or academic title (eg: sister, father)': 'gendered professional title',\n",
    "             'gendered professional, academic, religious, military or nobility title': 'gendered professional title',\n",
    "             'a non-gendered professional or academic title (eg: dr, rev)' : 'non-gendered professional title',\n",
    "             'non-gendered professional or academic title (eg: dr, rev)': 'non-gendered professional title',\n",
    "            'non-gendered professional, academic, religious, military or nobility title': 'non-gendered professional title',\n",
    "            'ind (\"individual\")' : \"ind\",\n",
    "            'a standard title that indicates my nonbinary/genderqueer identity (if you know of one, leave it in the feedback box)':'a standard title that is used only by people other than men and women',\n",
    "              'even for long-term things like id or bank cards, i choose whichever feels right on the day from the options available' : \"i choose my title on the day depending on how i'm feeling, even for long-term things like bank accounts\",\n",
    "              'a title not listed here (this will take you to a section where you can type your title)' : \"other not listed here\",\n",
    "              'other (please specify)' : \"other not listed here\",\n",
    "              'unknown':'unknown or blank',\n",
    "              'a standard title that is used only by people other than men and women (if you choose this and you know of such a title, put it in the comments box)' : 'a standard title that is used only by people other than men and women'}\n",
    "t_15 = t_15.rename(columns = title_dict)\n",
    "t_16 = t_16.rename(columns = title_dict)\n",
    "t_17 = t_17.rename(columns = title_dict)\n",
    "t_18 = t_18.rename(columns = title_dict)\n",
    "t_19 = t_19.rename(columns = title_dict)\n",
    "t_20 = t_20.rename(columns = title_dict)\n",
    "t_21 = t_21.rename(columns = title_dict)\n",
    "t_22 = t_22.rename(columns = title_dict)\n",
    "t_23 = t_23.rename(columns = title_dict)"
   ]
  },
  {
   "cell_type": "code",
   "execution_count": 382,
   "id": "7ee8fa1a",
   "metadata": {},
   "outputs": [],
   "source": [
    "GC_15 = pd.concat([g_15,t_15],axis=1)\n",
    "GC_16 = pd.concat([g_16,t_16],axis=1)\n",
    "GC_17 = pd.concat([g_17,t_17],axis=1)\n",
    "GC_18 = pd.concat([g_18,t_18],axis=1)\n",
    "GC_19 = pd.concat([g_19,t_19],axis=1)\n",
    "GC_20 = pd.concat([g_20,t_20],axis=1)\n",
    "GC_21 = pd.concat([g_21,t_21],axis=1)\n",
    "GC_22 = pd.concat([g_22,t_22],axis=1)\n",
    "GC_23 = pd.concat([g_23,t_23],axis=1)\n",
    "\n",
    "GC_15.to_csv(\"Data/GC15.csv\",index = False)\n",
    "GC_16.to_csv(\"Data/GC16.csv\",index = False)\n",
    "GC_17.to_csv(\"Data/GC17.csv\",index = False)\n",
    "GC_18.to_csv(\"Data/GC18.csv\",index = False)\n",
    "GC_19.to_csv(\"Data/GC19.csv\",index = False)\n",
    "GC_20.to_csv(\"Data/GC20.csv\",index = False)\n",
    "GC_21.to_csv(\"Data/GC21.csv\",index = False)\n",
    "GC_22.to_csv(\"Data/GC22.csv\",index = False)\n",
    "GC_23.to_csv(\"Data/GC23.csv\",index = False)"
   ]
  },
  {
   "cell_type": "markdown",
   "id": "08dc9141",
   "metadata": {},
   "source": [
    "# Pronouns"
   ]
  },
  {
   "cell_type": "code",
   "execution_count": 393,
   "id": "53f524f5",
   "metadata": {},
   "outputs": [],
   "source": [
    "# 2015\n",
    "pro_15 = [\"They/them (singular they)\", \"She/her\", \"He/him\", \"None/avoid pronouns\", \"Zie/hir or some variation thereof\", \"Any\", \"Ey/em (Spivak)\", \"Questioning or unknown\", \"It/that and It/it\", \"Co/co\"]\n",
    "p_15 = sorter(pro_15, raw_15.iloc[:,3])"
   ]
  },
  {
   "cell_type": "code",
   "execution_count": 435,
   "id": "e514d5eb",
   "metadata": {},
   "outputs": [],
   "source": [
    "# 2016\n",
    "pro_16 = [\"Singular they - they/them/their/theirs/themself\", \"She - she/her/her/hers/herself\", \"He - he/him/his/his/himself\", \"Mix it up; use different pronouns frequently and randomly\", \"None/avoid pronouns\", \"Zie - zie/hir/hir/hirs/hirself or some variation thereof\", \"Any\", \"Spivak - e/em/eir/eirs/emself or some variation thereof\", \"Questioning or unknown\", \"It - it/it/its/its/itself\", \"Fae - fae/faer/faer/faers/faeself or some variation thereof\", \"Co - co/co/cos/cos/coself\"]\n",
    "raw_16 = pd.read_csv(\"Data/RawData_16_Pronoun.csv\",header=[0,1,2]).fillna(\"elliot_nan\")\n",
    "p_16 = sorter(pro_16,raw_16.iloc[:,2])"
   ]
  },
  {
   "cell_type": "code",
   "execution_count": 433,
   "id": "b4545f06",
   "metadata": {},
   "outputs": [],
   "source": [
    "# 2017\n",
    "p_17 = pd.read_csv(\"Data/RawData_17.csv\",usecols=range(30,43)).fillna(\"elliot_nan\").replace(\"Yes\",1).replace(\"No\",0)\n",
    "p_17.columns = [i[i.rfind(\". \") + 2:] for i in p_17.columns]\n",
    "p_17 = p_17.reindex(sorted(p_17.columns), axis=1)"
   ]
  },
  {
   "cell_type": "code",
   "execution_count": 434,
   "id": "7f37b067",
   "metadata": {},
   "outputs": [],
   "source": [
    "# 2018\n",
    "p_18 = pd.read_csv(\"Data/RawData_18.csv\",usecols=range(34,46),skiprows=[0,2]).fillna(\"elliot_nan\").replace(\"Yes\",1).replace(\"No\",0)\n",
    "p_18.columns = [i[i.rfind(\". \") + 2:] for i in p_18.columns]\n",
    "p_18 = p_18.reindex(sorted(p_18.columns), axis=1)"
   ]
  },
  {
   "cell_type": "code",
   "execution_count": 451,
   "id": "743014f8",
   "metadata": {},
   "outputs": [],
   "source": [
    "# 2020\n",
    "p_20 = pd.read_csv(\"Data/RawData_20.csv\",usecols=range(43,55),skiprows=[0]).fillna(\"elliot_nan\").replace(\"Yes\",1).replace(\"No\",0)\n",
    "p_20 = p_20.reindex(sorted(p_20.columns), axis=1)"
   ]
  },
  {
   "cell_type": "code",
   "execution_count": 477,
   "id": "80bd84af",
   "metadata": {},
   "outputs": [],
   "source": [
    "# 2021\n",
    "p_21 = pd.read_csv(\"Data/RawData_21.csv\",usecols=range(46,58),skiprows=[0]).fillna(\"elliot_nan\").replace(\"Yes\",1).replace(\"No\",0)\n",
    "p_21.columns = [i[i.rfind(\". \") + 2:] for i in p_21.columns]\n",
    "p_21 = p_21.reindex(sorted(p_21.columns), axis=1)"
   ]
  },
  {
   "cell_type": "code",
   "execution_count": 490,
   "id": "3dd1044b",
   "metadata": {},
   "outputs": [],
   "source": [
    "# 2022\n",
    "p_22 = pd.read_csv(\"Data/RawData_22.csv\",usecols=range(48,62),skiprows=[0,2,3]).fillna(\"elliot_nan\").replace(\"Yes\",1).replace(\"No\",0)\n",
    "p_22 = p_22.reindex(sorted(p_22.columns), axis=1)"
   ]
  },
  {
   "cell_type": "code",
   "execution_count": 500,
   "id": "654b4859",
   "metadata": {},
   "outputs": [],
   "source": [
    "# 2023\n",
    "p_23 = pd.read_csv(\"Data/RawData_23.csv\",usecols=range(65,79),skiprows=[0,2]).fillna(\"elliot_nan\").replace(\"Yes\",1).replace(\"No\",0)\n",
    "p_23.columns = [i[i.rfind(\". \") + 2:] for i in p_23.columns]\n",
    "p_23 = p_23.reindex(sorted(p_23.columns), axis=1)"
   ]
  },
  {
   "cell_type": "code",
   "execution_count": 502,
   "id": "08bf8a9d",
   "metadata": {},
   "outputs": [],
   "source": [
    "GC_15 = pd.concat([GC_15,p_15],axis=1)\n",
    "GC_16 = pd.concat([GC_16,p_16],axis=1)\n",
    "GC_17 = pd.concat([GC_17,p_17],axis=1)\n",
    "GC_18 = pd.concat([GC_18,p_18],axis=1)\n",
    "#GC_19 = pd.concat([GC_19,p_19],axis=1)\n",
    "GC_20 = pd.concat([GC_20,p_20],axis=1)\n",
    "GC_21 = pd.concat([GC_21,p_21],axis=1)\n",
    "GC_22 = pd.concat([GC_22,p_22],axis=1)\n",
    "GC_23 = pd.concat([GC_23,p_23],axis=1)\n",
    "\n",
    "GC_15.to_csv(\"Data/GC15.csv\",index = False)\n",
    "GC_16.to_csv(\"Data/GC16.csv\",index = False)\n",
    "GC_17.to_csv(\"Data/GC17.csv\",index = False)\n",
    "GC_18.to_csv(\"Data/GC18.csv\",index = False)\n",
    "GC_19.to_csv(\"Data/GC19.csv\",index = False)\n",
    "GC_20.to_csv(\"Data/GC20.csv\",index = False)\n",
    "GC_21.to_csv(\"Data/GC21.csv\",index = False)\n",
    "GC_22.to_csv(\"Data/GC22.csv\",index = False)\n",
    "GC_23.to_csv(\"Data/GC23.csv\",index = False)\n",
    "\n",
    "# note that the pronouns still need unifying for simplicity through the years"
   ]
  },
  {
   "cell_type": "code",
   "execution_count": null,
   "id": "191fe5eb",
   "metadata": {},
   "outputs": [],
   "source": []
  }
 ],
 "metadata": {
  "kernelspec": {
   "display_name": "Python 3 (ipykernel)",
   "language": "python",
   "name": "python3"
  },
  "language_info": {
   "codemirror_mode": {
    "name": "ipython",
    "version": 3
   },
   "file_extension": ".py",
   "mimetype": "text/x-python",
   "name": "python",
   "nbconvert_exporter": "python",
   "pygments_lexer": "ipython3",
   "version": "3.10.8"
  }
 },
 "nbformat": 4,
 "nbformat_minor": 5
}
